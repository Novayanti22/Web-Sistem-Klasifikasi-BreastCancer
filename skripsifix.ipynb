{
 "cells": [
  {
   "cell_type": "code",
   "execution_count": 15,
   "id": "04eabc75",
   "metadata": {},
   "outputs": [],
   "source": [
    "import pandas as pd\n",
    "import numpy as np\n",
    "import seaborn as sns\n",
    "import matplotlib.pyplot as plt\n",
    "from sklearn.naive_bayes import GaussianNB\n",
    "from sklearn.model_selection import train_test_split\n",
    "from sklearn.metrics import accuracy_score, classification_report"
   ]
  },
  {
   "cell_type": "code",
   "execution_count": 16,
   "id": "f083cee8",
   "metadata": {},
   "outputs": [],
   "source": [
    "#Mengimport File Dataset\n",
    "df = pd.read_csv(\"dataR2.csv\")"
   ]
  },
  {
   "cell_type": "code",
   "execution_count": 17,
   "id": "5ff056aa",
   "metadata": {},
   "outputs": [
    {
     "data": {
      "text/html": [
       "<div>\n",
       "<style scoped>\n",
       "    .dataframe tbody tr th:only-of-type {\n",
       "        vertical-align: middle;\n",
       "    }\n",
       "\n",
       "    .dataframe tbody tr th {\n",
       "        vertical-align: top;\n",
       "    }\n",
       "\n",
       "    .dataframe thead th {\n",
       "        text-align: right;\n",
       "    }\n",
       "</style>\n",
       "<table border=\"1\" class=\"dataframe\">\n",
       "  <thead>\n",
       "    <tr style=\"text-align: right;\">\n",
       "      <th></th>\n",
       "      <th>Age</th>\n",
       "      <th>Glucose</th>\n",
       "      <th>Insulin</th>\n",
       "      <th>Leptin</th>\n",
       "      <th>Classification</th>\n",
       "    </tr>\n",
       "  </thead>\n",
       "  <tbody>\n",
       "    <tr>\n",
       "      <th>count</th>\n",
       "      <td>116.000000</td>\n",
       "      <td>116.000000</td>\n",
       "      <td>116.000000</td>\n",
       "      <td>116.000000</td>\n",
       "      <td>116.000000</td>\n",
       "    </tr>\n",
       "    <tr>\n",
       "      <th>mean</th>\n",
       "      <td>57.301724</td>\n",
       "      <td>97.793103</td>\n",
       "      <td>10.012086</td>\n",
       "      <td>169.458526</td>\n",
       "      <td>1.551724</td>\n",
       "    </tr>\n",
       "    <tr>\n",
       "      <th>std</th>\n",
       "      <td>16.112766</td>\n",
       "      <td>22.525162</td>\n",
       "      <td>10.067768</td>\n",
       "      <td>183.238061</td>\n",
       "      <td>0.499475</td>\n",
       "    </tr>\n",
       "    <tr>\n",
       "      <th>min</th>\n",
       "      <td>24.000000</td>\n",
       "      <td>60.000000</td>\n",
       "      <td>2.432000</td>\n",
       "      <td>4.311000</td>\n",
       "      <td>1.000000</td>\n",
       "    </tr>\n",
       "    <tr>\n",
       "      <th>25%</th>\n",
       "      <td>45.000000</td>\n",
       "      <td>85.750000</td>\n",
       "      <td>4.359250</td>\n",
       "      <td>21.779500</td>\n",
       "      <td>1.000000</td>\n",
       "    </tr>\n",
       "    <tr>\n",
       "      <th>50%</th>\n",
       "      <td>56.000000</td>\n",
       "      <td>92.000000</td>\n",
       "      <td>5.924500</td>\n",
       "      <td>97.821000</td>\n",
       "      <td>2.000000</td>\n",
       "    </tr>\n",
       "    <tr>\n",
       "      <th>75%</th>\n",
       "      <td>71.000000</td>\n",
       "      <td>102.000000</td>\n",
       "      <td>11.189250</td>\n",
       "      <td>265.894750</td>\n",
       "      <td>2.000000</td>\n",
       "    </tr>\n",
       "    <tr>\n",
       "      <th>max</th>\n",
       "      <td>89.000000</td>\n",
       "      <td>201.000000</td>\n",
       "      <td>58.460000</td>\n",
       "      <td>834.821000</td>\n",
       "      <td>2.000000</td>\n",
       "    </tr>\n",
       "  </tbody>\n",
       "</table>\n",
       "</div>"
      ],
      "text/plain": [
       "              Age     Glucose     Insulin      Leptin  Classification\n",
       "count  116.000000  116.000000  116.000000  116.000000      116.000000\n",
       "mean    57.301724   97.793103   10.012086  169.458526        1.551724\n",
       "std     16.112766   22.525162   10.067768  183.238061        0.499475\n",
       "min     24.000000   60.000000    2.432000    4.311000        1.000000\n",
       "25%     45.000000   85.750000    4.359250   21.779500        1.000000\n",
       "50%     56.000000   92.000000    5.924500   97.821000        2.000000\n",
       "75%     71.000000  102.000000   11.189250  265.894750        2.000000\n",
       "max     89.000000  201.000000   58.460000  834.821000        2.000000"
      ]
     },
     "execution_count": 17,
     "metadata": {},
     "output_type": "execute_result"
    }
   ],
   "source": [
    "#Describing Data\n",
    "df.describe()"
   ]
  },
  {
   "cell_type": "code",
   "execution_count": 18,
   "id": "af186f2b",
   "metadata": {},
   "outputs": [
    {
     "data": {
      "text/html": [
       "<div>\n",
       "<style scoped>\n",
       "    .dataframe tbody tr th:only-of-type {\n",
       "        vertical-align: middle;\n",
       "    }\n",
       "\n",
       "    .dataframe tbody tr th {\n",
       "        vertical-align: top;\n",
       "    }\n",
       "\n",
       "    .dataframe thead th {\n",
       "        text-align: right;\n",
       "    }\n",
       "</style>\n",
       "<table border=\"1\" class=\"dataframe\">\n",
       "  <thead>\n",
       "    <tr style=\"text-align: right;\">\n",
       "      <th></th>\n",
       "      <th>Age</th>\n",
       "      <th>BMI</th>\n",
       "      <th>Glucose</th>\n",
       "      <th>Insulin</th>\n",
       "      <th>HOMA</th>\n",
       "      <th>Leptin</th>\n",
       "      <th>Adiponectin</th>\n",
       "      <th>Resistin</th>\n",
       "      <th>MCP.1</th>\n",
       "      <th>Classification</th>\n",
       "    </tr>\n",
       "  </thead>\n",
       "  <tbody>\n",
       "    <tr>\n",
       "      <th>0</th>\n",
       "      <td>48</td>\n",
       "      <td>23.5</td>\n",
       "      <td>70</td>\n",
       "      <td>2.707</td>\n",
       "      <td>467.408.667</td>\n",
       "      <td>88.071</td>\n",
       "      <td>97.024</td>\n",
       "      <td>799.585</td>\n",
       "      <td>417.114</td>\n",
       "      <td>1</td>\n",
       "    </tr>\n",
       "    <tr>\n",
       "      <th>1</th>\n",
       "      <td>83</td>\n",
       "      <td>2.069.049.454</td>\n",
       "      <td>92</td>\n",
       "      <td>3.115</td>\n",
       "      <td>706.897.333</td>\n",
       "      <td>88.438</td>\n",
       "      <td>5.429.285</td>\n",
       "      <td>406.405</td>\n",
       "      <td>468.786</td>\n",
       "      <td>1</td>\n",
       "    </tr>\n",
       "    <tr>\n",
       "      <th>2</th>\n",
       "      <td>82</td>\n",
       "      <td>2.312.467.037</td>\n",
       "      <td>91</td>\n",
       "      <td>4.498</td>\n",
       "      <td>1.009.651.067</td>\n",
       "      <td>179.393</td>\n",
       "      <td>2.243.204</td>\n",
       "      <td>927.715</td>\n",
       "      <td>554.697</td>\n",
       "      <td>1</td>\n",
       "    </tr>\n",
       "    <tr>\n",
       "      <th>3</th>\n",
       "      <td>68</td>\n",
       "      <td>2.136.752.137</td>\n",
       "      <td>77</td>\n",
       "      <td>3.226</td>\n",
       "      <td>612.724.933</td>\n",
       "      <td>98.827</td>\n",
       "      <td>716.956</td>\n",
       "      <td>12.766</td>\n",
       "      <td>928.22</td>\n",
       "      <td>1</td>\n",
       "    </tr>\n",
       "    <tr>\n",
       "      <th>4</th>\n",
       "      <td>86</td>\n",
       "      <td>2.111.111.111</td>\n",
       "      <td>92</td>\n",
       "      <td>3.549</td>\n",
       "      <td>8.053.864</td>\n",
       "      <td>66.994</td>\n",
       "      <td>481.924</td>\n",
       "      <td>1.057.635</td>\n",
       "      <td>773.92</td>\n",
       "      <td>1</td>\n",
       "    </tr>\n",
       "    <tr>\n",
       "      <th>...</th>\n",
       "      <td>...</td>\n",
       "      <td>...</td>\n",
       "      <td>...</td>\n",
       "      <td>...</td>\n",
       "      <td>...</td>\n",
       "      <td>...</td>\n",
       "      <td>...</td>\n",
       "      <td>...</td>\n",
       "      <td>...</td>\n",
       "      <td>...</td>\n",
       "    </tr>\n",
       "    <tr>\n",
       "      <th>111</th>\n",
       "      <td>45</td>\n",
       "      <td>26.85</td>\n",
       "      <td>92</td>\n",
       "      <td>3.330</td>\n",
       "      <td>755.688</td>\n",
       "      <td>54.680</td>\n",
       "      <td>12.1</td>\n",
       "      <td>10.96</td>\n",
       "      <td>268.23</td>\n",
       "      <td>2</td>\n",
       "    </tr>\n",
       "    <tr>\n",
       "      <th>112</th>\n",
       "      <td>62</td>\n",
       "      <td>26.84</td>\n",
       "      <td>100</td>\n",
       "      <td>4.530</td>\n",
       "      <td>11.174</td>\n",
       "      <td>12.450</td>\n",
       "      <td>21.42</td>\n",
       "      <td>7.32</td>\n",
       "      <td>330.16</td>\n",
       "      <td>2</td>\n",
       "    </tr>\n",
       "    <tr>\n",
       "      <th>113</th>\n",
       "      <td>65</td>\n",
       "      <td>32.05</td>\n",
       "      <td>97</td>\n",
       "      <td>5.730</td>\n",
       "      <td>1.370.998</td>\n",
       "      <td>61.480</td>\n",
       "      <td>22.54</td>\n",
       "      <td>10.33</td>\n",
       "      <td>314.05</td>\n",
       "      <td>2</td>\n",
       "    </tr>\n",
       "    <tr>\n",
       "      <th>114</th>\n",
       "      <td>72</td>\n",
       "      <td>25.59</td>\n",
       "      <td>82</td>\n",
       "      <td>2.820</td>\n",
       "      <td>570.392</td>\n",
       "      <td>24.960</td>\n",
       "      <td>33.75</td>\n",
       "      <td>3.27</td>\n",
       "      <td>392.46</td>\n",
       "      <td>2</td>\n",
       "    </tr>\n",
       "    <tr>\n",
       "      <th>115</th>\n",
       "      <td>86</td>\n",
       "      <td>27.18</td>\n",
       "      <td>138</td>\n",
       "      <td>19.910</td>\n",
       "      <td>6.777.364</td>\n",
       "      <td>90.280</td>\n",
       "      <td>14.11</td>\n",
       "      <td>4.35</td>\n",
       "      <td>90.09</td>\n",
       "      <td>2</td>\n",
       "    </tr>\n",
       "  </tbody>\n",
       "</table>\n",
       "<p>116 rows × 10 columns</p>\n",
       "</div>"
      ],
      "text/plain": [
       "     Age            BMI  Glucose  Insulin           HOMA   Leptin Adiponectin  \\\n",
       "0     48           23.5       70    2.707    467.408.667   88.071      97.024   \n",
       "1     83  2.069.049.454       92    3.115    706.897.333   88.438   5.429.285   \n",
       "2     82  2.312.467.037       91    4.498  1.009.651.067  179.393   2.243.204   \n",
       "3     68  2.136.752.137       77    3.226    612.724.933   98.827     716.956   \n",
       "4     86  2.111.111.111       92    3.549      8.053.864   66.994     481.924   \n",
       "..   ...            ...      ...      ...            ...      ...         ...   \n",
       "111   45          26.85       92    3.330        755.688   54.680        12.1   \n",
       "112   62          26.84      100    4.530         11.174   12.450       21.42   \n",
       "113   65          32.05       97    5.730      1.370.998   61.480       22.54   \n",
       "114   72          25.59       82    2.820        570.392   24.960       33.75   \n",
       "115   86          27.18      138   19.910      6.777.364   90.280       14.11   \n",
       "\n",
       "      Resistin    MCP.1  Classification  \n",
       "0      799.585  417.114               1  \n",
       "1      406.405  468.786               1  \n",
       "2      927.715  554.697               1  \n",
       "3       12.766   928.22               1  \n",
       "4    1.057.635   773.92               1  \n",
       "..         ...      ...             ...  \n",
       "111      10.96   268.23               2  \n",
       "112       7.32   330.16               2  \n",
       "113      10.33   314.05               2  \n",
       "114       3.27   392.46               2  \n",
       "115       4.35    90.09               2  \n",
       "\n",
       "[116 rows x 10 columns]"
      ]
     },
     "execution_count": 18,
     "metadata": {},
     "output_type": "execute_result"
    }
   ],
   "source": [
    "df"
   ]
  },
  {
   "cell_type": "code",
   "execution_count": 19,
   "id": "93a99764",
   "metadata": {
    "scrolled": true
   },
   "outputs": [
    {
     "name": "stdout",
     "output_type": "stream",
     "text": [
      "<class 'pandas.core.frame.DataFrame'>\n",
      "RangeIndex: 116 entries, 0 to 115\n",
      "Data columns (total 10 columns):\n",
      " #   Column          Non-Null Count  Dtype  \n",
      "---  ------          --------------  -----  \n",
      " 0   Age             116 non-null    int64  \n",
      " 1   BMI             116 non-null    object \n",
      " 2   Glucose         116 non-null    int64  \n",
      " 3   Insulin         116 non-null    float64\n",
      " 4   HOMA            116 non-null    object \n",
      " 5   Leptin          116 non-null    float64\n",
      " 6   Adiponectin     116 non-null    object \n",
      " 7   Resistin        116 non-null    object \n",
      " 8   MCP.1           116 non-null    object \n",
      " 9   Classification  116 non-null    int64  \n",
      "dtypes: float64(2), int64(3), object(5)\n",
      "memory usage: 9.2+ KB\n"
     ]
    }
   ],
   "source": [
    "df.info()"
   ]
  },
  {
   "cell_type": "code",
   "execution_count": 20,
   "id": "9b8b5677",
   "metadata": {},
   "outputs": [
    {
     "name": "stdout",
     "output_type": "stream",
     "text": [
      "Age               0\n",
      "BMI               0\n",
      "Glucose           0\n",
      "Insulin           0\n",
      "HOMA              0\n",
      "Leptin            0\n",
      "Adiponectin       0\n",
      "Resistin          0\n",
      "MCP.1             0\n",
      "Classification    0\n",
      "dtype: int64\n"
     ]
    }
   ],
   "source": [
    "print(df.isnull().sum())"
   ]
  },
  {
   "cell_type": "code",
   "execution_count": 21,
   "id": "6467d10d",
   "metadata": {},
   "outputs": [
    {
     "name": "stdout",
     "output_type": "stream",
     "text": [
      "Number of duplicate rows: 0\n"
     ]
    }
   ],
   "source": [
    "# Periksa duplikat\n",
    "duplicates = df.duplicated()\n",
    "print(f\"Number of duplicate rows: {duplicates.sum()}\")\n",
    "\n",
    "# Menghapus duplikat\n",
    "df = df.drop_duplicates()\n"
   ]
  },
  {
   "cell_type": "code",
   "execution_count": 22,
   "id": "c32c29cc",
   "metadata": {},
   "outputs": [
    {
     "name": "stdout",
     "output_type": "stream",
     "text": [
      "DataFrame sesudah menghapus duplikat:\n",
      "     Age            BMI  Glucose  Insulin           HOMA   Leptin Adiponectin  \\\n",
      "0     48           23.5       70    2.707    467.408.667   88.071      97.024   \n",
      "1     83  2.069.049.454       92    3.115    706.897.333   88.438   5.429.285   \n",
      "2     82  2.312.467.037       91    4.498  1.009.651.067  179.393   2.243.204   \n",
      "3     68  2.136.752.137       77    3.226    612.724.933   98.827     716.956   \n",
      "4     86  2.111.111.111       92    3.549      8.053.864   66.994     481.924   \n",
      "..   ...            ...      ...      ...            ...      ...         ...   \n",
      "111   45          26.85       92    3.330        755.688   54.680        12.1   \n",
      "112   62          26.84      100    4.530         11.174   12.450       21.42   \n",
      "113   65          32.05       97    5.730      1.370.998   61.480       22.54   \n",
      "114   72          25.59       82    2.820        570.392   24.960       33.75   \n",
      "115   86          27.18      138   19.910      6.777.364   90.280       14.11   \n",
      "\n",
      "      Resistin    MCP.1  Classification  \n",
      "0      799.585  417.114               1  \n",
      "1      406.405  468.786               1  \n",
      "2      927.715  554.697               1  \n",
      "3       12.766   928.22               1  \n",
      "4    1.057.635   773.92               1  \n",
      "..         ...      ...             ...  \n",
      "111      10.96   268.23               2  \n",
      "112       7.32   330.16               2  \n",
      "113      10.33   314.05               2  \n",
      "114       3.27   392.46               2  \n",
      "115       4.35    90.09               2  \n",
      "\n",
      "[116 rows x 10 columns]\n"
     ]
    }
   ],
   "source": [
    "print(\"DataFrame sesudah menghapus duplikat:\")\n",
    "print(df)"
   ]
  },
  {
   "cell_type": "code",
   "execution_count": 23,
   "id": "6e0986a4",
   "metadata": {},
   "outputs": [],
   "source": [
    "# Kelompokkan data berdasarkan kolom kanker payudara\n",
    "grouped_df = df.groupby(\"Leptin\")"
   ]
  },
  {
   "cell_type": "code",
   "execution_count": 24,
   "id": "0dc04740",
   "metadata": {},
   "outputs": [],
   "source": [
    "# Hitung jumlah data untuk setiap kelompok\n",
    "data_count = grouped_df.size()"
   ]
  },
  {
   "cell_type": "code",
   "execution_count": 25,
   "id": "380f310a",
   "metadata": {},
   "outputs": [
    {
     "data": {
      "image/png": "[encoded data removed]",
      "text/plain": [
       "<Figure size 640x480 with 1 Axes>"
      ]
     },
     "metadata": {},
     "output_type": "display_data"
    }
   ],
   "source": [
    "# Buat grafik batang\n",
    "plt.bar(data_count.index, data_count)\n",
    "plt.xlabel(\"Leptin\")\n",
    "plt.ylabel(\"Jumlah Data\")\n",
    "plt.show()"
   ]
  },
  {
   "cell_type": "code",
   "execution_count": 26,
   "id": "643c980e",
   "metadata": {},
   "outputs": [
    {
     "data": {
      "text/plain": [
       "<AxesSubplot:xlabel='Leptin', ylabel='Classification'>"
      ]
     },
     "execution_count": 26,
     "metadata": {},
     "output_type": "execute_result"
    },
    {
     "data": {
      "image/png": "[encoded data removed]",
      "text/plain": [
       "<Figure size 640x480 with 1 Axes>"
      ]
     },
     "metadata": {},
     "output_type": "display_data"
    }
   ],
   "source": [
    "sns.barplot(x = 'Leptin', y = 'Classification', data = df)"
   ]
  },
  {
   "cell_type": "code",
   "execution_count": 27,
   "id": "bc9c1691",
   "metadata": {},
   "outputs": [
    {
     "data": {
      "text/plain": [
       "<AxesSubplot:xlabel='Leptin', ylabel='Classification'>"
      ]
     },
     "execution_count": 27,
     "metadata": {},
     "output_type": "execute_result"
    },
    {
     "data": {
      "image/png": "[encoded data removed]",
      "text/plain": [
       "<Figure size 640x480 with 1 Axes>"
      ]
     },
     "metadata": {},
     "output_type": "display_data"
    }
   ],
   "source": [
    "sns.lineplot(x = 'Leptin', y = 'Classification', data = df)"
   ]
  },
  {
   "cell_type": "code",
   "execution_count": 28,
   "id": "ba2e8b16",
   "metadata": {},
   "outputs": [],
   "source": [
    "import pandas as pd\n",
    "import numpy as np\n",
    "import seaborn as sns\n",
    "import matplotlib.pyplot as plt\n",
    "from sklearn.naive_bayes import GaussianNB\n",
    "from sklearn.model_selection import train_test_split\n",
    "from sklearn.metrics import accuracy_score, classification_report"
   ]
  },
  {
   "cell_type": "code",
   "execution_count": 29,
   "id": "2b8ff3d8",
   "metadata": {},
   "outputs": [],
   "source": [
    "X = df.iloc[:,-1].values\n",
    "y = df['Classification']"
   ]
  },
  {
   "cell_type": "code",
   "execution_count": 30,
   "id": "f325a297",
   "metadata": {},
   "outputs": [
    {
     "data": {
      "text/plain": [
       "array([1, 1, 1, 1, 1, 1, 1, 1, 1, 1, 1, 1, 1, 1, 1, 1, 1, 1, 1, 1, 1, 1,\n",
       "       1, 1, 1, 1, 1, 1, 1, 1, 1, 1, 1, 1, 1, 1, 1, 1, 1, 1, 1, 1, 1, 1,\n",
       "       1, 1, 1, 1, 1, 1, 1, 1, 2, 2, 2, 2, 2, 2, 2, 2, 2, 2, 2, 2, 2, 2,\n",
       "       2, 2, 2, 2, 2, 2, 2, 2, 2, 2, 2, 2, 2, 2, 2, 2, 2, 2, 2, 2, 2, 2,\n",
       "       2, 2, 2, 2, 2, 2, 2, 2, 2, 2, 2, 2, 2, 2, 2, 2, 2, 2, 2, 2, 2, 2,\n",
       "       2, 2, 2, 2, 2, 2], dtype=int64)"
      ]
     },
     "execution_count": 30,
     "metadata": {},
     "output_type": "execute_result"
    }
   ],
   "source": [
    "X"
   ]
  },
  {
   "cell_type": "code",
   "execution_count": 31,
   "id": "82993622",
   "metadata": {},
   "outputs": [
    {
     "data": {
      "text/plain": [
       "0      1\n",
       "1      1\n",
       "2      1\n",
       "3      1\n",
       "4      1\n",
       "      ..\n",
       "111    2\n",
       "112    2\n",
       "113    2\n",
       "114    2\n",
       "115    2\n",
       "Name: Classification, Length: 116, dtype: int64"
      ]
     },
     "execution_count": 31,
     "metadata": {},
     "output_type": "execute_result"
    }
   ],
   "source": [
    "y"
   ]
  },
  {
   "cell_type": "code",
   "execution_count": 32,
   "id": "04f5efff",
   "metadata": {},
   "outputs": [
    {
     "data": {
      "text/plain": [
       "(116,)"
      ]
     },
     "execution_count": 32,
     "metadata": {},
     "output_type": "execute_result"
    }
   ],
   "source": [
    "X.shape"
   ]
  },
  {
   "cell_type": "code",
   "execution_count": 33,
   "id": "f6c2025f",
   "metadata": {},
   "outputs": [],
   "source": [
    "# Bagi data menjadi data pelatihan (80%) dan data uji (20%)\n",
    "X_train, X_test, y_train, y_test = train_test_split(X, y, test_size=0.2, random_state=42)"
   ]
  },
  {
   "cell_type": "code",
   "execution_count": 34,
   "id": "e8dcc56f",
   "metadata": {},
   "outputs": [
    {
     "data": {
      "text/plain": [
       "(92,)"
      ]
     },
     "execution_count": 34,
     "metadata": {},
     "output_type": "execute_result"
    }
   ],
   "source": [
    "X_train.shape"
   ]
  },
  {
   "cell_type": "code",
   "execution_count": 35,
   "id": "67f9824d",
   "metadata": {},
   "outputs": [
    {
     "data": {
      "text/plain": [
       "array([1, 2, 1, 1, 2, 1, 2, 2, 2, 1, 2, 1, 1, 2, 2, 1, 1, 2, 1, 2, 2, 1,\n",
       "       1, 1, 2, 1, 2, 1, 1, 2, 2, 1, 1, 2, 2, 1, 1, 2, 1, 1, 2, 1, 1, 1,\n",
       "       2, 1, 2, 2, 2, 2, 1, 2, 1, 2, 2, 2, 2, 2, 1, 2, 1, 2, 2, 2, 1, 2,\n",
       "       2, 2, 2, 1, 1, 2, 1, 2, 1, 1, 1, 2, 2, 2, 2, 2, 2, 2, 1, 2, 2, 2,\n",
       "       1, 2, 1, 2], dtype=int64)"
      ]
     },
     "execution_count": 35,
     "metadata": {},
     "output_type": "execute_result"
    }
   ],
   "source": [
    "X_train"
   ]
  },
  {
   "cell_type": "code",
   "execution_count": 36,
   "id": "cd2ca282",
   "metadata": {},
   "outputs": [
    {
     "data": {
      "text/plain": [
       "(24,)"
      ]
     },
     "execution_count": 36,
     "metadata": {},
     "output_type": "execute_result"
    }
   ],
   "source": [
    "X_test.shape"
   ]
  },
  {
   "cell_type": "code",
   "execution_count": 37,
   "id": "627dcb4a",
   "metadata": {},
   "outputs": [
    {
     "data": {
      "text/plain": [
       "array([2, 1, 1, 1, 1, 1, 2, 1, 2, 1, 1, 1, 2, 2, 1, 1, 2, 2, 2, 2, 2, 2,\n",
       "       2, 1], dtype=int64)"
      ]
     },
     "execution_count": 37,
     "metadata": {},
     "output_type": "execute_result"
    }
   ],
   "source": [
    "X_test"
   ]
  },
  {
   "cell_type": "code",
   "execution_count": 38,
   "id": "4ef4dca6",
   "metadata": {},
   "outputs": [
    {
     "data": {
      "text/plain": [
       "(92,)"
      ]
     },
     "execution_count": 38,
     "metadata": {},
     "output_type": "execute_result"
    }
   ],
   "source": [
    "y_train.shape"
   ]
  },
  {
   "cell_type": "code",
   "execution_count": 39,
   "id": "da80fee3",
   "metadata": {},
   "outputs": [
    {
     "data": {
      "text/plain": [
       "15     1\n",
       "68     2\n",
       "31     1\n",
       "24     1\n",
       "55     2\n",
       "      ..\n",
       "106    2\n",
       "14     1\n",
       "92     2\n",
       "51     1\n",
       "102    2\n",
       "Name: Classification, Length: 92, dtype: int64"
      ]
     },
     "execution_count": 39,
     "metadata": {},
     "output_type": "execute_result"
    }
   ],
   "source": [
    "y_train"
   ]
  },
  {
   "cell_type": "code",
   "execution_count": 40,
   "id": "5dd7184c",
   "metadata": {},
   "outputs": [
    {
     "data": {
      "text/plain": [
       "(24,)"
      ]
     },
     "execution_count": 40,
     "metadata": {},
     "output_type": "execute_result"
    }
   ],
   "source": [
    "y_test.shape"
   ]
  },
  {
   "cell_type": "code",
   "execution_count": 41,
   "id": "422c7808",
   "metadata": {},
   "outputs": [],
   "source": [
    "# Inisialisasi model Naive Bayes\n",
    "naive_bayes_model = GaussianNB()"
   ]
  },
  {
   "cell_type": "code",
   "execution_count": 23,
   "id": "dd4b8575",
   "metadata": {},
   "outputs": [],
   "source": [
    "from sklearn.model_selection import train_test_split\n",
    "from sklearn.naive_bayes import GaussianNB\n",
    "\n",
    "# Data latih\n",
    "x_train = [[1, 2], [3, 4], [5, 6], [7, 8]]\n",
    "y_train = [2, 1, 1, 1,]\n"
   ]
  },
  {
   "cell_type": "code",
   "execution_count": 24,
   "id": "20193b38",
   "metadata": {},
   "outputs": [
    {
     "name": "stdout",
     "output_type": "stream",
     "text": [
      "Akurasi: 1.0\n",
      "[[7 0]\n",
      " [2 1]]\n",
      "              precision    recall  f1-score   support\n",
      "\n",
      "           1       0.78      1.00      0.88         7\n",
      "           2       1.00      0.33      0.50         3\n",
      "\n",
      "    accuracy                           0.80        10\n",
      "   macro avg       0.89      0.67      0.69        10\n",
      "weighted avg       0.84      0.80      0.76        10\n",
      "\n"
     ]
    },
    {
     "data": {
      "image/png": "[encoded data removed]",
      "text/plain": [
       "<Figure size 640x480 with 2 Axes>"
      ]
     },
     "metadata": {},
     "output_type": "display_data"
    }
   ],
   "source": [
    "# Bagi data menjadi data pelatihan dan data pengujian\n",
    "x_train, x_test, y_train, y_test = train_test_split(x_train, y_train, test_size=0.2, random_state=42)\n",
    "\n",
    "# Inisialisasi model Naive Bayes\n",
    "naive_bayes_model = GaussianNB()\n",
    "\n",
    "# Latih model dengan data pelatihan\n",
    "naive_bayes_model.fit(x_train, y_train)\n",
    "\n",
    "#  Evaluasi model dengan data pengujian\n",
    "accuracy = naive_bayes_model.score(x_test, y_test)\n",
    "print(f'Akurasi: {accuracy}')\n",
    "\n",
    "\n",
    "from sklearn.metrics import confusion_matrix\n",
    "from sklearn.metrics import confusion_matrix\n",
    "y_test = [2, 1, 1, 1, 1, 1, 2, 1, 2, 1]\n",
    "y_pred = [1, 1, 1, 1, 1, 1, 1, 1, 2, 1]\n",
    "\n",
    "print(confusion_matrix(y_test, y_pred))\n",
    "\n",
    "print(classification_report(y_test, y_pred))\n",
    "\n",
    "import matplotlib.pyplot as plt\n",
    "from sklearn.metrics import ConfusionMatrixDisplay\n",
    "cm = confusion_matrix(y_test, y_pred)\n",
    "disp = ConfusionMatrixDisplay(confusion_matrix=cm)\n",
    "disp.plot()\n",
    "plt.show()"
   ]
  },
  {
   "cell_type": "code",
   "execution_count": 21,
   "id": "ce593ae6",
   "metadata": {},
   "outputs": [
    {
     "name": "stdout",
     "output_type": "stream",
     "text": [
      "Akurasi: 0.8333333333333334\n",
      "[[9 0]\n",
      " [2 1]]\n",
      "              precision    recall  f1-score   support\n",
      "\n",
      "           1       0.82      1.00      0.90         9\n",
      "           2       1.00      0.33      0.50         3\n",
      "\n",
      "    accuracy                           0.83        12\n",
      "   macro avg       0.91      0.67      0.70        12\n",
      "weighted avg       0.86      0.83      0.80        12\n",
      "\n"
     ]
    },
    {
     "data": {
      "image/png": "[encoded data removed]",
      "text/plain": [
       "<Figure size 640x480 with 2 Axes>"
      ]
     },
     "metadata": {},
     "output_type": "display_data"
    }
   ],
   "source": [
    "from sklearn.naive_bayes import GaussianNB\n",
    "from sklearn.metrics import confusion_matrix, classification_report, ConfusionMatrixDisplay\n",
    "import matplotlib.pyplot as plt\n",
    "\n",
    "# Data latih\n",
    "x_train = [[1, 2], [3, 4], [5, 6], [7, 8], [9, 10], [11, 12], [13, 14], [2, 3], [4, 5], [6, 7], [8, 9], [10, 11]]\n",
    "y_train = [2, 1, 1, 1, 1, 1, 2, 1, 2, 1, 1, 1]\n",
    "\n",
    "# Data uji \n",
    "x_test = [[2, 3], [4, 5], [6, 7], [8, 9], [10, 11], [12, 13], [14, 15], [2, 3], [4, 5], [6, 7], [8, 9], [10, 11]]\n",
    "y_test = [2, 1, 1, 1, 1, 1, 2, 1, 2, 1, 1, 1]\n",
    "\n",
    "# Inisialisasi model Naive Bayes\n",
    "naive_bayes_model = GaussianNB()\n",
    "\n",
    "# Latih model dengan data pelatihan\n",
    "naive_bayes_model.fit(x_train, y_train)\n",
    "\n",
    "# Evaluasi model dengan data pengujian\n",
    "accuracy = naive_bayes_model.score(x_test, y_test)\n",
    "print(f'Akurasi: {accuracy}')\n",
    "\n",
    "# Prediksi label dengan data uji\n",
    "y_pred = naive_bayes_model.predict(x_test)\n",
    "\n",
    "# Confusion Matrix dan Classification Report\n",
    "cm = confusion_matrix(y_test, y_pred)\n",
    "print(cm)\n",
    "print(classification_report(y_test, y_pred))\n",
    "\n",
    "# Menampilkan Confusion Matrix\n",
    "disp = ConfusionMatrixDisplay(confusion_matrix=cm)\n",
    "disp.plot()\n",
    "plt.title(\"Confusion Matrix\")\n",
    "plt.xlabel(\"Predicted Label\")\n",
    "plt.ylabel(\"True Label\")\n",
    "plt.show()\n"
   ]
  },
  {
   "cell_type": "code",
   "execution_count": 13,
   "id": "625b826c",
   "metadata": {},
   "outputs": [
    {
     "name": "stdout",
     "output_type": "stream",
     "text": [
      "              precision    recall  f1-score   support\n",
      "\n",
      "           1       0.82      1.00      0.90         9\n",
      "           2       1.00      0.33      0.50         3\n",
      "\n",
      "    accuracy                           0.83        12\n",
      "   macro avg       0.91      0.67      0.70        12\n",
      "weighted avg       0.86      0.83      0.80        12\n",
      "\n"
     ]
    }
   ],
   "source": [
    "print(classification_report(y_test, y_pred))"
   ]
  },
  {
   "cell_type": "code",
   "execution_count": 22,
   "id": "a6df185b",
   "metadata": {},
   "outputs": [
    {
     "name": "stdout",
     "output_type": "stream",
     "text": [
      "Akurasi pada data uji: 0.8\n",
      "Confusion Matrix:\n",
      "[[2 1]\n",
      " [0 2]]\n",
      "Classification Report:\n",
      "              precision    recall  f1-score   support\n",
      "\n",
      "           1       1.00      0.67      0.80         3\n",
      "           2       0.67      1.00      0.80         2\n",
      "\n",
      "    accuracy                           0.80         5\n",
      "   macro avg       0.83      0.83      0.80         5\n",
      "weighted avg       0.87      0.80      0.80         5\n",
      "\n"
     ]
    },
    {
     "data": {
      "image/png": "[encoded data removed]",
      "text/plain": [
       "<Figure size 640x480 with 2 Axes>"
      ]
     },
     "metadata": {},
     "output_type": "display_data"
    }
   ],
   "source": [
    "from sklearn.naive_bayes import GaussianNB\n",
    "from sklearn.metrics import confusion_matrix, classification_report, ConfusionMatrixDisplay\n",
    "import matplotlib.pyplot as plt\n",
    "\n",
    "# Data latih\n",
    "x_train = [[1, 2], [3, 4], [5, 6], [7, 8], [9, 10]]\n",
    "y_train = [2, 1, 1, 1, 2]\n",
    "\n",
    "# Data uji \n",
    "x_test = [[2, 3], [4, 5], [6, 7], [8, 9], [10, 11]]\n",
    "y_test = [2, 1, 1, 1, 2]\n",
    "\n",
    "# Inisialisasi model Naive Bayes\n",
    "naive_bayes_model = GaussianNB()\n",
    "\n",
    "# Latih model dengan data pelatihan\n",
    "naive_bayes_model.fit(x_train, y_train)\n",
    "\n",
    "# Evaluasi model dengan data pengujian\n",
    "test_accuracy = naive_bayes_model.score(x_test, y_test)\n",
    "print(f'Akurasi pada data uji: {test_accuracy}')\n",
    "\n",
    "# Prediksi label dengan data uji\n",
    "y_pred = naive_bayes_model.predict(x_test)\n",
    "\n",
    "# Confusion Matrix dan Classification Report\n",
    "cm = confusion_matrix(y_test, y_pred)\n",
    "print(\"Confusion Matrix:\")\n",
    "print(cm)\n",
    "print(\"Classification Report:\")\n",
    "print(classification_report(y_test, y_pred))\n",
    "\n",
    "# Menampilkan Confusion Matrix\n",
    "disp = ConfusionMatrixDisplay(confusion_matrix=cm)\n",
    "disp.plot()\n",
    "plt.title(\"Confusion Matrix\")\n",
    "plt.xlabel(\"Predicted Label\")\n",
    "plt.ylabel(\"True Label\")\n",
    "plt.show()\n"
   ]
  },
  {
   "cell_type": "code",
   "execution_count": null,
   "id": "4e12c72e",
   "metadata": {},
   "outputs": [],
   "source": []
  }
 ],
 "metadata": {
  "kernelspec": {
   "display_name": "Python 3 (ipykernel)",
   "language": "python",
   "name": "python3"
  },
  "language_info": {
   "codemirror_mode": {
    "name": "ipython",
    "version": 3
   },
   "file_extension": ".py",
   "mimetype": "text/x-python",
   "name": "python",
   "nbconvert_exporter": "python",
   "pygments_lexer": "ipython3",
   "version": "3.9.13"
  }
 },
 "nbformat": 4,
 "nbformat_minor": 5
}
